{
 "cells": [
  {
   "cell_type": "markdown",
   "id": "5f23ce5e-fec1-4736-bfee-3b095138afb9",
   "metadata": {},
   "source": [
    "# case study 1- Grocery store calculator"
   ]
  },
  {
   "cell_type": "code",
   "execution_count": 5,
   "id": "985e455c-8498-4270-93ff-7bab01117bd8",
   "metadata": {},
   "outputs": [
    {
     "name": "stdout",
     "output_type": "stream",
     "text": [
      "Welcome to the Grocery Store Calculator!\n"
     ]
    },
    {
     "name": "stdin",
     "output_type": "stream",
     "text": [
      "How many items are you buying?  5\n"
     ]
    },
    {
     "name": "stdout",
     "output_type": "stream",
     "text": [
      "\n",
      "Item 1:\n"
     ]
    },
    {
     "name": "stdin",
     "output_type": "stream",
     "text": [
      "Enter item name:  6\n",
      "Enter quantity of 6:  6\n",
      "Enter price per unit of 6: Rs. 6\n"
     ]
    },
    {
     "name": "stdout",
     "output_type": "stream",
     "text": [
      "Total cost for 6: Rs.36.00\n",
      "\n",
      "Item 2:\n"
     ]
    },
    {
     "name": "stdin",
     "output_type": "stream",
     "text": [
      "Enter item name:  5\n",
      "Enter quantity of 5:  5\n",
      "Enter price per unit of 5: Rs. 5\n"
     ]
    },
    {
     "name": "stdout",
     "output_type": "stream",
     "text": [
      "Total cost for 5: Rs.25.00\n",
      "\n",
      "Item 3:\n"
     ]
    },
    {
     "name": "stdin",
     "output_type": "stream",
     "text": [
      "Enter item name:  5\n",
      "Enter quantity of 5:  5\n",
      "Enter price per unit of 5: Rs. 5\n"
     ]
    },
    {
     "name": "stdout",
     "output_type": "stream",
     "text": [
      "Total cost for 5: Rs.25.00\n",
      "\n",
      "Item 4:\n"
     ]
    },
    {
     "name": "stdin",
     "output_type": "stream",
     "text": [
      "Enter item name:  5\n",
      "Enter quantity of 5:  5\n",
      "Enter price per unit of 5: Rs. 5\n"
     ]
    },
    {
     "name": "stdout",
     "output_type": "stream",
     "text": [
      "Total cost for 5: Rs.25.00\n",
      "\n",
      "Item 5:\n"
     ]
    },
    {
     "name": "stdin",
     "output_type": "stream",
     "text": [
      "Enter item name:  5\n",
      "Enter quantity of 5:  5\n",
      "Enter price per unit of 5: Rs. 5\n"
     ]
    },
    {
     "name": "stdout",
     "output_type": "stream",
     "text": [
      "Total cost for 5: Rs.25.00\n",
      "\n",
      "Your total cost is: Rs.136.00\n"
     ]
    }
   ],
   "source": [
    "\n",
    "def grocery_calculator():\n",
    "    print(\"Welcome to the Grocery Store Calculator!\")\n",
    "    total_cost = 0\n",
    "    num_items = int(input(\"How many items are you buying? \"))\n",
    "    \n",
    "    for i in range(num_items):\n",
    "        print(f\"\\nItem {i+1}:\")\n",
    "        item_name = input(\"Enter item name: \")\n",
    "        quantity = int(input(f\"Enter quantity of {item_name}: \"))\n",
    "        price = float(input(f\"Enter price per unit of {item_name}: Rs.\"))\n",
    "        \n",
    "        item_total = quantity * price\n",
    "        print(f\"Total cost for {item_name}: Rs.{item_total:.2f}\")\n",
    "        total_cost += item_total\n",
    "    \n",
    "    print(f\"\\nYour total cost is: Rs.{total_cost:.2f}\")\n",
    "grocery_calculator()\n"
   ]
  },
  {
   "cell_type": "code",
   "execution_count": null,
   "id": "33fb69d4-6f03-44db-94c3-28b363fb46f0",
   "metadata": {},
   "outputs": [],
   "source": []
  }
 ],
 "metadata": {
  "kernelspec": {
   "display_name": "Python 3 (ipykernel)",
   "language": "python",
   "name": "python3"
  },
  "language_info": {
   "codemirror_mode": {
    "name": "ipython",
    "version": 3
   },
   "file_extension": ".py",
   "mimetype": "text/x-python",
   "name": "python",
   "nbconvert_exporter": "python",
   "pygments_lexer": "ipython3",
   "version": "3.12.7"
  }
 },
 "nbformat": 4,
 "nbformat_minor": 5
}
